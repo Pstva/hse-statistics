{
 "cells": [
  {
   "cell_type": "code",
   "execution_count": 1,
   "id": "01d4004c",
   "metadata": {},
   "outputs": [],
   "source": [
    "import numpy as np\n",
    "import matplotlib.pyplot as plt\n",
    "from matplotlib import rcParams\n",
    "import math\n",
    "from IPython.display import display, Math\n",
    "import scipy.stats as st\n",
    "rcParams.update({'font.size': 12})"
   ]
  },
  {
   "cell_type": "markdown",
   "id": "fccee34e",
   "metadata": {},
   "source": [
    "### Вариант 9\n",
    "\n",
    "Пусть $$x_1, ..., x_n \\sim Bin(m, p)$$\n",
    "\n",
    "+ Покажите, что параметр 𝑝 попадает в доверительный интервал с нужной вероятностью.\n",
    "+ Исследуйте зависимость ширины доверительного интервала для параметра распределения 𝑝 от объема выборки.\n",
    "\n",
    "точечная оценка: $$\\widehat{p}_n = \\frac{\\overline{x}}{m}$$\n",
    "\n",
    "доверительный интервал уровня доверия 0.95:\n",
    "\n",
    "Так как имеем n независимых одинаково распределенных случайных величин, и дисперсия распределения неизвестна, то выполняется:\n",
    "\n",
    "$$\\sqrt{n}\\frac{\\overline{x} - mp}{\\tilde{s}_n} \\rightarrow T_{n-1}$$\n",
    "\n",
    "\n",
    "$$P(-t_{0.975}^{n-1} \\leq \\sqrt{n}\\frac{\\overline{x} - mp}{\\tilde{s}_n} \\leq t_{0.975}^{n-1}) \\geq 0.95$$\n",
    "\n",
    "$$P(-t_{0.975}^{n-1} \\leq \\sqrt{n} m \\frac{\\frac{\\overline{x}}{m} - p}{\\tilde{s}_n} \\leq t_{0.975}^{n-1}) \\geq 0.95$$\n",
    "\n",
    "\n",
    "откуда можем найти границы доверительного интервала для нашей оценки параметра p:\n",
    "\n",
    "$$[\\frac{\\overline{x}}{m} - t_{0.975} \\frac{\\tilde{s}_n}{m\\sqrt{n}};\\frac{\\overline{x}}{m} + t_{0.975} \\frac{\\tilde{s}_n}{m\\sqrt{n}}]$$\n",
    "\n",
    "\n",
    "Для того, чтобы показать, что параметр 𝑝 попадает в доверительный интервал с нужной вероятностью, буду выбирать по 200 раз выборки из n элементов(n=50) из биномиального распределения с параметрами m и p, подсчитывать границы доверительного интервала и проверять, попадает ли параметр в этот отрезок. "
   ]
  },
  {
   "cell_type": "code",
   "execution_count": 2,
   "id": "0a768814",
   "metadata": {},
   "outputs": [],
   "source": [
    "def calc_CI(m, p, n, eps):\n",
    "    t_q = st.t.ppf(q=eps, df=n-1)\n",
    "    sample = np.random.binomial(m, p, size = n)\n",
    "    var_notbiased = np.var(sample, ddof=1)\n",
    "    point_est = np.mean(sample)/m\n",
    "    CI_left = point_est - t_q * (var_notbiased / (m * math.sqrt(n)))\n",
    "    CI_right = point_est + t_q * (var_notbiased / (m * math.sqrt(n)))\n",
    "    return CI_left, CI_right"
   ]
  },
  {
   "cell_type": "code",
   "execution_count": 3,
   "id": "b0b17d9a",
   "metadata": {},
   "outputs": [
    {
     "name": "stdout",
     "output_type": "stream",
     "text": [
      "0: CI = [0.26312776262817944,0.33487223737182065]; параметр попадает в 100.0 % случаях, p:0.3, m:20\n",
      "1: CI = [0.25639578951372477,0.3362708771529419]; параметр попадает в 100.0 % случаях, p:0.3, m:30\n",
      "2: CI = [0.4444984238092518,0.5281682428574149]; параметр попадает в 100.0 % случаях, p:0.5, m:30\n",
      "3: CI = [0.6587122114942628,0.7419544551724039]; параметр попадает в 100.0 % случаях, p:0.7, m:30\n",
      "4: CI = [0.25352948917164175,0.3424705108283582]; параметр попадает в 100.0 % случаях, p:0.3, m:30\n"
     ]
    }
   ],
   "source": [
    "k = 1000\n",
    "n = 100\n",
    "params = [[20, 0.3,  0.975], [30, 0.3,  0.975], [30, 0.5,  0.975], [30, 0.7, 0.975], [30, 0.3,  0.975]]\n",
    "\n",
    "for i, par in enumerate(params):\n",
    "    m, p, eps = par\n",
    "    CIs_true = []\n",
    "    for _ in range(k):\n",
    "        CI_left, CI_right = calc_CI(m, p, n, eps)\n",
    "        CIs_true.append(CI_left<= p <= CI_right)\n",
    "    res = sum(CIs_true)/len(CIs_true)\n",
    "    print(f'{i}: CI = [{CI_left},{CI_right}]; параметр попадает в {res*100} % случаях, p:{p}, m:{m}')"
   ]
  },
  {
   "cell_type": "markdown",
   "id": "50232850",
   "metadata": {},
   "source": [
    "+ Исследуйте зависимость ширины доверительного интервала для параметра распределения 𝑝 от объема выборки.\n",
    "\n",
    "Покажу на примере 95% доверительных интервалов для выборок из распределения с параметром m=100 и p=0.7, увеличивая n"
   ]
  },
  {
   "cell_type": "code",
   "execution_count": 4,
   "id": "fc43c55e",
   "metadata": {},
   "outputs": [
    {
     "name": "stdout",
     "output_type": "stream",
     "text": [
      "n: 5, CI = [0.525141952192197,0.7908580478078029], длина интервала: 0.26571609561560594\n",
      "n: 10, CI = [0.5328245404839491,0.8731754595160508], длина интервала: 0.3403509190321017\n",
      "n: 50, CI = [0.6478706456264135,0.7573293543735865], длина интервала: 0.109458708747173\n",
      "n: 100, CI = [0.6577308933423833,0.7370691066576165], длина интервала: 0.07933821331523316\n",
      "n: 300, CI = [0.6732999231252922,0.7213667435413745], длина интервала: 0.048066820416082345\n",
      "n: 500, CI = [0.6786331871903849,0.7198868128096151], длина интервала: 0.04125362561923018\n",
      "n: 1000, CI = [0.6844193830508828,0.7105606169491171], длина интервала: 0.026141233898234306\n",
      "n: 10000, CI = [0.6955619623040523,0.7038620376959477], длина интервала: 0.008300075391895367\n"
     ]
    }
   ],
   "source": [
    "m = 100\n",
    "p = 0.7\n",
    "eps = 0.975\n",
    "for n in [5, 10, 50, 100, 300, 500, 1000, 10000]:\n",
    "    CI_left, CI_right = calc_CI(m, p, n, eps)\n",
    "    print(f'n: {n}, CI = [{CI_left},{CI_right}], длина интервала: {CI_right-CI_left}')"
   ]
  },
  {
   "cell_type": "markdown",
   "id": "590b43bf",
   "metadata": {},
   "source": [
    "Как можно заметить, с ростом выборки длин доверительного интервала уменьшается"
   ]
  }
 ],
 "metadata": {
  "kernelspec": {
   "display_name": "Python 3",
   "language": "python",
   "name": "python3"
  },
  "language_info": {
   "codemirror_mode": {
    "name": "ipython",
    "version": 3
   },
   "file_extension": ".py",
   "mimetype": "text/x-python",
   "name": "python",
   "nbconvert_exporter": "python",
   "pygments_lexer": "ipython3",
   "version": "3.8.8"
  }
 },
 "nbformat": 4,
 "nbformat_minor": 5
}
