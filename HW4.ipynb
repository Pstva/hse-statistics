{
 "cells": [
  {
   "cell_type": "code",
   "execution_count": 1,
   "id": "8358a7fd",
   "metadata": {},
   "outputs": [],
   "source": [
    "import numpy as np\n",
    "import matplotlib.pyplot as plt\n",
    "from matplotlib import rcParams\n",
    "import math\n",
    "from IPython.display import display, Math\n",
    "import scipy.stats as st\n",
    "rcParams.update({'font.size': 12})"
   ]
  },
  {
   "cell_type": "markdown",
   "id": "a000cfab",
   "metadata": {},
   "source": [
    "### Вариант 9\n",
    "\n",
    "Пусть $$x_1, ..., x_n \\sim Bin(m, p)$$\n",
    "\n",
    "+ Покажите, что параметр 𝑝 попадает в доверительный интервал с нужной вероятностью.\n",
    "+ Исследуйте зависимость ширины доверительного интервала для параметра распределения 𝑝 от объема выборки.\n",
    "\n",
    "точечная оценка: $$\\widehat{p}_n = \\frac{\\overline{x}}{m}$$\n",
    "\n",
    "доверительный интервал уровня доверия 0.95:\n",
    "\n",
    "Так как имеем n независимых одинаково распределенных случайных величин, и дисперсия распределения неизвестна, то выполняется:\n",
    "\n",
    "$$\\sqrt{n}\\frac{\\overline{x} - mp}{\\tilde{s}_n} \\rightarrow T_{n-1}$$\n",
    "\n",
    "\n",
    "$$P(-t_{0.975}^{n-1} \\leq \\sqrt{n}\\frac{\\overline{x} - mp}{\\tilde{s}_n} \\leq t_{0.975}^{n-1}) \\geq 0.95$$\n",
    "\n",
    "$$P(-t_{0.975}^{n-1} \\leq \\sqrt{n} m \\frac{\\frac{\\overline{x}}{m} - p}{\\tilde{s}_n} \\leq t_{0.975}^{n-1}) \\geq 0.95$$\n",
    "\n",
    "\n",
    "откуда можем найти границы доверительного интервала для нашей оценки параметра p:\n",
    "\n",
    "$$[\\frac{\\overline{x}}{m} - t_{0.975} \\frac{\\tilde{s}_n}{m\\sqrt{n}};\\frac{\\overline{x}}{m} + t_{0.975} \\frac{\\tilde{s}_n}{m\\sqrt{n}}]$$\n",
    "\n",
    "\n",
    "Для того, чтобы показать, что параметр 𝑝 попадает в доверительный интервал с нужной вероятностью, буду выбирать по 200 раз выборки из n элементов(n=50) из биномиального распределения с параметрами m и p, подсчитывать границы доверительного интервала и проверять, попадает ли параметр в этот отрезок. "
   ]
  },
  {
   "cell_type": "code",
   "execution_count": 2,
   "id": "2d59803d",
   "metadata": {},
   "outputs": [],
   "source": [
    "def calc_CI(m, p, n, quantile):\n",
    "    t_q = st.t.ppf(q=quantile, df=n-1)\n",
    "    sample = np.random.binomial(m, p, size = n)\n",
    "    var_notbiased = np.var(sample, ddof=1)\n",
    "    point_est = np.mean(sample)/m\n",
    "    CI_left = point_est - t_q * (var_notbiased / (m * math.sqrt(n)))\n",
    "    CI_right = point_est + t_q * (var_notbiased / (m * math.sqrt(n)))\n",
    "    return CI_left, CI_right"
   ]
  },
  {
   "cell_type": "code",
   "execution_count": 3,
   "id": "1a7068b5",
   "metadata": {},
   "outputs": [
    {
     "name": "stdout",
     "output_type": "stream",
     "text": [
      "0: CI = [0.25548821556177986,0.3315117844382201]; параметр попадает в 100.0 % случаях, p:0.3, m:20\n",
      "1: CI = [0.2520658384509505,0.3312674948823829]; параметр попадает в 99.9 % случаях, p:0.3, m:30\n",
      "2: CI = [0.47452393661078907,0.5561427300558776]; параметр попадает в 100.0 % случаях, p:0.5, m:30\n",
      "3: CI = [0.6546440248316848,0.7386893085016485]; параметр попадает в 100.0 % случаях, p:0.7, m:30\n",
      "4: CI = [0.2593344079090692,0.3486655920909308]; параметр попадает в 100.0 % случаях, p:0.3, m:30\n"
     ]
    }
   ],
   "source": [
    "k = 1000\n",
    "n = 100\n",
    "params = [[20, 0.3,  0.975], [30, 0.3,  0.975], [30, 0.5,  0.975], [30, 0.7, 0.975], [30, 0.3,  0.975]]\n",
    "\n",
    "for i, par in enumerate(params):\n",
    "    m, p, quantile = par\n",
    "    CIs_true = []\n",
    "    for _ in range(k):\n",
    "        CI_left, CI_right = calc_CI(m, p, n, quantile)\n",
    "        CIs_true.append(CI_left<= p <= CI_right)\n",
    "    res = sum(CIs_true)/len(CIs_true)\n",
    "    print(f'{i}: CI = [{CI_left},{CI_right}]; параметр попадает в {res*100} % случаях, p:{p}, m:{m}')"
   ]
  },
  {
   "cell_type": "markdown",
   "id": "8ab86ba7",
   "metadata": {},
   "source": [
    "+ Исследуйте зависимость ширины доверительного интервала для параметра распределения 𝑝 от объема выборки.\n",
    "\n",
    "Покажу на примере 95% доверительных интервалов для выборок из распределения с параметром m=100 и p=0.7, увеличивая n"
   ]
  },
  {
   "cell_type": "code",
   "execution_count": 4,
   "id": "6497bf2b",
   "metadata": {},
   "outputs": [
    {
     "name": "stdout",
     "output_type": "stream",
     "text": [
      "n: 5, CI = [0.34080915255144356,1.1031908474485563], длина интервала: 0.7623816948971127\n",
      "n: 10, CI = [0.5292756501209874,0.8607243498790125], длина интервала: 0.33144869975802504\n",
      "n: 50, CI = [0.6218357653605244,0.7601642346394755], длина интервала: 0.13832846927895104\n",
      "n: 100, CI = [0.6557393120251865,0.7286606879748135], длина интервала: 0.072921375949627\n",
      "n: 300, CI = [0.6742604861437762,0.7192061805228904], длина интервала: 0.04494569437911422\n",
      "n: 500, CI = [0.6777282598065675,0.7133517401934326], длина интервала: 0.035623480386865136\n",
      "n: 1000, CI = [0.6884357728196993,0.712424227180301], длина интервала: 0.023988454360601708\n",
      "n: 10000, CI = [0.6962419648951673,0.7043680351048328], длина интервала: 0.008126070209665492\n"
     ]
    }
   ],
   "source": [
    "m = 100\n",
    "p = 0.7\n",
    "quantile = 0.975\n",
    "for n in [5, 10, 50, 100, 300, 500, 1000, 10000]:\n",
    "    CI_left, CI_right = calc_CI(m, p, n, quantile)\n",
    "    print(f'n: {n}, CI = [{CI_left},{CI_right}], длина интервала: {CI_right-CI_left}')"
   ]
  },
  {
   "cell_type": "markdown",
   "id": "b12f5e2e",
   "metadata": {},
   "source": [
    "Как можно заметить, с ростом выборки длин доверительного интервала уменьшается"
   ]
  }
 ],
 "metadata": {
  "kernelspec": {
   "display_name": "Python 3",
   "language": "python",
   "name": "python3"
  },
  "language_info": {
   "codemirror_mode": {
    "name": "ipython",
    "version": 3
   },
   "file_extension": ".py",
   "mimetype": "text/x-python",
   "name": "python",
   "nbconvert_exporter": "python",
   "pygments_lexer": "ipython3",
   "version": "3.8.8"
  }
 },
 "nbformat": 4,
 "nbformat_minor": 5
}
